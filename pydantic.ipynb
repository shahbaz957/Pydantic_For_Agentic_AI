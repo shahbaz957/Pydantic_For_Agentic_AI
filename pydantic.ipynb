{
 "cells": [
  {
   "cell_type": "markdown",
   "id": "7133dcc4",
   "metadata": {},
   "source": [
    "## **Pydantic Basics : Creating and Using Models**"
   ]
  },
  {
   "cell_type": "markdown",
   "id": "f20f8f6a",
   "metadata": {},
   "source": [
    "### Pydantic models are the foundation for data validation , they use python type annotation to define the structure and validate the data at runtime"
   ]
  },
  {
   "cell_type": "code",
   "execution_count": 2,
   "id": "87f2ad8a",
   "metadata": {},
   "outputs": [],
   "source": [
    "from pydantic import BaseModel  # it is the base class for creating the pydantic model which is used for data validation"
   ]
  },
  {
   "cell_type": "code",
   "execution_count": 3,
   "id": "1809a369",
   "metadata": {},
   "outputs": [
    {
     "ename": "ValidationError",
     "evalue": "1 validation error for Person\nage\n  Input should be a valid integer, unable to parse string as an integer [type=int_parsing, input_value='two', input_type=str]\n    For further information visit https://errors.pydantic.dev/2.11/v/int_parsing",
     "output_type": "error",
     "traceback": [
      "\u001b[31m---------------------------------------------------------------------------\u001b[39m",
      "\u001b[31mValidationError\u001b[39m                           Traceback (most recent call last)",
      "\u001b[36mCell\u001b[39m\u001b[36m \u001b[39m\u001b[32mIn[3]\u001b[39m\u001b[32m, line 7\u001b[39m\n\u001b[32m      3\u001b[39m     age : \u001b[38;5;28mint\u001b[39m\n\u001b[32m      4\u001b[39m     city : \u001b[38;5;28mstr\u001b[39m\n\u001b[32m----> \u001b[39m\u001b[32m7\u001b[39m p1 = \u001b[43mPerson\u001b[49m\u001b[43m(\u001b[49m\u001b[43mname\u001b[49m\u001b[43m \u001b[49m\u001b[43m=\u001b[49m\u001b[43m \u001b[49m\u001b[33;43m\"\u001b[39;49m\u001b[33;43mshahbaz\u001b[39;49m\u001b[33;43m\"\u001b[39;49m\u001b[43m \u001b[49m\u001b[43m,\u001b[49m\u001b[43m \u001b[49m\u001b[43mage\u001b[49m\u001b[43m \u001b[49m\u001b[43m=\u001b[49m\u001b[43m \u001b[49m\u001b[33;43m'\u001b[39;49m\u001b[33;43mtwo\u001b[39;49m\u001b[33;43m'\u001b[39;49m\u001b[43m \u001b[49m\u001b[43m,\u001b[49m\u001b[43m \u001b[49m\u001b[43mcity\u001b[49m\u001b[43m \u001b[49m\u001b[43m=\u001b[49m\u001b[43m \u001b[49m\u001b[33;43m\"\u001b[39;49m\u001b[33;43msheikhupura\u001b[39;49m\u001b[33;43m\"\u001b[39;49m\u001b[43m)\u001b[49m \n",
      "\u001b[36mFile \u001b[39m\u001b[32ms:\\AI_AGENTS\\Python_N_Env\\Python_basics\\venv\\Lib\\site-packages\\pydantic\\main.py:253\u001b[39m, in \u001b[36mBaseModel.__init__\u001b[39m\u001b[34m(self, **data)\u001b[39m\n\u001b[32m    251\u001b[39m \u001b[38;5;66;03m# `__tracebackhide__` tells pytest and some other tools to omit this function from tracebacks\u001b[39;00m\n\u001b[32m    252\u001b[39m __tracebackhide__ = \u001b[38;5;28;01mTrue\u001b[39;00m\n\u001b[32m--> \u001b[39m\u001b[32m253\u001b[39m validated_self = \u001b[38;5;28;43mself\u001b[39;49m\u001b[43m.\u001b[49m\u001b[43m__pydantic_validator__\u001b[49m\u001b[43m.\u001b[49m\u001b[43mvalidate_python\u001b[49m\u001b[43m(\u001b[49m\u001b[43mdata\u001b[49m\u001b[43m,\u001b[49m\u001b[43m \u001b[49m\u001b[43mself_instance\u001b[49m\u001b[43m=\u001b[49m\u001b[38;5;28;43mself\u001b[39;49m\u001b[43m)\u001b[49m\n\u001b[32m    254\u001b[39m \u001b[38;5;28;01mif\u001b[39;00m \u001b[38;5;28mself\u001b[39m \u001b[38;5;129;01mis\u001b[39;00m \u001b[38;5;129;01mnot\u001b[39;00m validated_self:\n\u001b[32m    255\u001b[39m     warnings.warn(\n\u001b[32m    256\u001b[39m         \u001b[33m'\u001b[39m\u001b[33mA custom validator is returning a value other than `self`.\u001b[39m\u001b[38;5;130;01m\\n\u001b[39;00m\u001b[33m'\u001b[39m\n\u001b[32m    257\u001b[39m         \u001b[33m\"\u001b[39m\u001b[33mReturning anything other than `self` from a top level model validator isn\u001b[39m\u001b[33m'\u001b[39m\u001b[33mt supported when validating via `__init__`.\u001b[39m\u001b[38;5;130;01m\\n\u001b[39;00m\u001b[33m\"\u001b[39m\n\u001b[32m    258\u001b[39m         \u001b[33m'\u001b[39m\u001b[33mSee the `model_validator` docs (https://docs.pydantic.dev/latest/concepts/validators/#model-validators) for more details.\u001b[39m\u001b[33m'\u001b[39m,\n\u001b[32m    259\u001b[39m         stacklevel=\u001b[32m2\u001b[39m,\n\u001b[32m    260\u001b[39m     )\n",
      "\u001b[31mValidationError\u001b[39m: 1 validation error for Person\nage\n  Input should be a valid integer, unable to parse string as an integer [type=int_parsing, input_value='two', input_type=str]\n    For further information visit https://errors.pydantic.dev/2.11/v/int_parsing"
     ]
    }
   ],
   "source": [
    "class Person(BaseModel):\n",
    "    name : str\n",
    "    age : int\n",
    "    city : str\n",
    "\n",
    "\n",
    "p1 = Person(name = \"shahbaz\" , age = 'two' , city = \"sheikhupura\") "
   ]
  },
  {
   "cell_type": "code",
   "execution_count": 4,
   "id": "6fd08d49",
   "metadata": {},
   "outputs": [],
   "source": [
    "p1 = Person(name = \"shahbaz\" , age = True , city = \"sheikhupura\") "
   ]
  },
  {
   "cell_type": "markdown",
   "id": "2a49e1d7",
   "metadata": {},
   "source": [
    "## **Model with Optional Fields**"
   ]
  },
  {
   "cell_type": "code",
   "execution_count": 5,
   "id": "89c58e63",
   "metadata": {},
   "outputs": [],
   "source": [
    "from typing import Optional\n",
    "class Employee(BaseModel):\n",
    "    id : int \n",
    "    name : str\n",
    "    department : str\n",
    "    salary : Optional[float] = None # Optional with default value\n",
    "    is_active : Optional[bool] = True # optional with default value"
   ]
  },
  {
   "cell_type": "code",
   "execution_count": 6,
   "id": "af2b6b82",
   "metadata": {},
   "outputs": [
    {
     "name": "stdout",
     "output_type": "stream",
     "text": [
      "id=1 name='shahbaz' department='CS' salary=None is_active=True\n"
     ]
    }
   ],
   "source": [
    "emp1 = Employee(id = 1 , name = \"shahbaz\" , department= \"CS\")\n",
    "print(emp1)"
   ]
  },
  {
   "cell_type": "code",
   "execution_count": 7,
   "id": "3c541707",
   "metadata": {},
   "outputs": [
    {
     "name": "stdout",
     "output_type": "stream",
     "text": [
      "id=1 name='shahbaz' department='CS' salary=60000.0 is_active=False\n"
     ]
    }
   ],
   "source": [
    "emp2 = Employee(id = 1 , name = \"shahbaz\" , department= \"CS\" , salary=60000  , is_active=False) # Automatic Typecasting overhere\n",
    "print(emp2)"
   ]
  },
  {
   "cell_type": "markdown",
   "id": "8532884b",
   "metadata": {},
   "source": [
    "## **Model with List Fields**"
   ]
  },
  {
   "cell_type": "code",
   "execution_count": 8,
   "id": "ff6bb294",
   "metadata": {},
   "outputs": [],
   "source": [
    "from typing import List\n",
    "class ClassRoom(BaseModel):\n",
    "    room_no : int \n",
    "    students : List[str] # list of strings means name of students\n",
    "    capacity : int"
   ]
  },
  {
   "cell_type": "code",
   "execution_count": 9,
   "id": "55e15680",
   "metadata": {},
   "outputs": [],
   "source": [
    "classroom = ClassRoom(\n",
    "    room_no=1,\n",
    "    students=['anima' , 'charolette' , 'jenkins'],\n",
    "    capacity=45\n",
    ")"
   ]
  },
  {
   "cell_type": "code",
   "execution_count": 10,
   "id": "4a4e0fce",
   "metadata": {},
   "outputs": [
    {
     "name": "stdout",
     "output_type": "stream",
     "text": [
      "room_no=1 students=['anima', 'charolette', 'jenkins'] capacity=45\n"
     ]
    }
   ],
   "source": [
    "print(classroom)"
   ]
  },
  {
   "cell_type": "code",
   "execution_count": 11,
   "id": "c4988048",
   "metadata": {},
   "outputs": [
    {
     "name": "stdout",
     "output_type": "stream",
     "text": [
      "2 validation errors for ClassRoom\n",
      "room_no\n",
      "  Field required [type=missing, input_value={'room_number': 1, 'stude...', 123], 'capacity': 30}, input_type=dict]\n",
      "    For further information visit https://errors.pydantic.dev/2.11/v/missing\n",
      "students.1\n",
      "  Input should be a valid string [type=string_type, input_value=123, input_type=int]\n",
      "    For further information visit https://errors.pydantic.dev/2.11/v/string_type\n"
     ]
    }
   ],
   "source": [
    "try:\n",
    "    invalid_val=ClassRoom(room_number=1,students=[\"Krish\",123],capacity=30)\n",
    "except ValueError as e:\n",
    "    print(e)"
   ]
  },
  {
   "cell_type": "markdown",
   "id": "6c3693e1",
   "metadata": {},
   "source": [
    "## **Model With Nested Models**"
   ]
  },
  {
   "cell_type": "code",
   "execution_count": 13,
   "id": "ebe769f1",
   "metadata": {},
   "outputs": [
    {
     "name": "stdout",
     "output_type": "stream",
     "text": [
      "customer_id=1 name='Emma' address=Address(street='123 Main St', city='Boston', zip_code=2108)\n"
     ]
    }
   ],
   "source": [
    "from pydantic import BaseModel\n",
    "\n",
    "class Address(BaseModel):\n",
    "    street: str\n",
    "    city: str\n",
    "    zip_code: int\n",
    "\n",
    "class Customer(BaseModel):\n",
    "    customer_id: int\n",
    "    name: str\n",
    "    address: Address  # Nested model\n",
    "\n",
    "# Create a customer with nested address\n",
    "customer = Customer(\n",
    "    customer_id=1,\n",
    "    name=\"Emma\",\n",
    "    address={\"street\": \"123 Main St\", \"city\": \"Boston\", \"zip_code\": \"02108\"}\n",
    ")\n",
    "print(customer)\n"
   ]
  },
  {
   "cell_type": "markdown",
   "id": "88fc33a2",
   "metadata": {},
   "source": [
    "## **Field Customization and Constraints**"
   ]
  },
  {
   "cell_type": "code",
   "execution_count": 14,
   "id": "cc858a48",
   "metadata": {},
   "outputs": [],
   "source": [
    "from pydantic import BaseModel , Field\n",
    "\n",
    "class Item (BaseModel):\n",
    "    name : str = Field(min_length=2 , max_length=50)\n",
    "    price : float = Field(gt=0 , lt=1000)\n",
    "    quantity : int = Field(gt = 0)\n"
   ]
  },
  {
   "cell_type": "code",
   "execution_count": 17,
   "id": "2e60e1c4",
   "metadata": {},
   "outputs": [
    {
     "name": "stdout",
     "output_type": "stream",
     "text": [
      "This is Your Error -->  1 validation error for Item\n",
      "price\n",
      "  Input should be greater than 0 [type=greater_than, input_value=-1, input_type=int]\n",
      "    For further information visit https://errors.pydantic.dev/2.11/v/greater_than\n"
     ]
    }
   ],
   "source": [
    "try:\n",
    "    item = Item(name=\"Book\", price=-1, quantity=10)\n",
    "except Exception as e:\n",
    "    print(\"This is Your Error --> \" , e)\n"
   ]
  },
  {
   "cell_type": "code",
   "execution_count": null,
   "id": "60cc0f4c",
   "metadata": {},
   "outputs": [
    {
     "name": "stdout",
     "output_type": "stream",
     "text": [
      "username='alice' age=18 email='JohnDoe@example.com'\n",
      "username='bob' age=25 email='bob@domain.com'\n"
     ]
    }
   ],
   "source": [
    "from pydantic import BaseModel, Field\n",
    "\n",
    "class User(BaseModel):\n",
    "    username: str = Field(..., description=\"Unique username for the user\") # ... means this field is required\n",
    "    age: int = Field(default=18, description=\"User age, defaults to 18\")\n",
    "    email: str = Field(default_factory=lambda: \"JohnDoe@example.com\", description=\"Default email address\")  # default factory is used for running functions\n",
    "\n",
    "# Examples\n",
    "user1 = User(username=\"alice\")\n",
    "print(user1)  # username='alice' age=18 email='user@example.com'\n",
    "\n",
    "user2 = User(username=\"bob\", age=25, email=\"bob@domain.com\")\n",
    "print(user2)  # username='bob' age=25 email='bob@domain.com'"
   ]
  },
  {
   "cell_type": "code",
   "execution_count": 19,
   "id": "dfa7d6f8",
   "metadata": {},
   "outputs": [
    {
     "name": "stdout",
     "output_type": "stream",
     "text": [
      "{'properties': {'username': {'description': 'Unique username for the user', 'title': 'Username', 'type': 'string'}, 'age': {'default': 18, 'description': 'User age, defaults to 18', 'title': 'Age', 'type': 'integer'}, 'email': {'description': 'Default email address', 'title': 'Email', 'type': 'string'}}, 'required': ['username'], 'title': 'User', 'type': 'object'}\n"
     ]
    }
   ],
   "source": [
    "print(User.model_json_schema())"
   ]
  },
  {
   "cell_type": "code",
   "execution_count": null,
   "id": "45d8d2d3",
   "metadata": {},
   "outputs": [],
   "source": []
  }
 ],
 "metadata": {
  "kernelspec": {
   "display_name": "Python 3",
   "language": "python",
   "name": "python3"
  },
  "language_info": {
   "codemirror_mode": {
    "name": "ipython",
    "version": 3
   },
   "file_extension": ".py",
   "mimetype": "text/x-python",
   "name": "python",
   "nbconvert_exporter": "python",
   "pygments_lexer": "ipython3",
   "version": "3.12.0"
  }
 },
 "nbformat": 4,
 "nbformat_minor": 5
}
